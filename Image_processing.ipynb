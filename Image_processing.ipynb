{
 "cells": [
  {
   "cell_type": "markdown",
   "id": "4d0d47ce-7428-4a7d-8242-7bf4516cf3d1",
   "metadata": {},
   "source": [
    "## Install packages"
   ]
  },
  {
   "cell_type": "code",
   "execution_count": 1,
   "id": "e16d13f0-e955-4545-ab0e-057d7a754919",
   "metadata": {},
   "outputs": [],
   "source": [
    "import numpy as np\n",
    "import matplotlib.pyplot as plt\n",
    "import cv2\n",
    "import rasterio\n",
    "import pandas as pd\n",
    "from copy import deepcopy\n",
    "import glob, os"
   ]
  },
  {
   "cell_type": "markdown",
   "id": "8abb0f7a-9364-44a9-827a-d93df44cb882",
   "metadata": {},
   "source": [
    "## Chapter 2 Basic operations on images"
   ]
  },
  {
   "cell_type": "code",
   "execution_count": 2,
   "id": "704c3d00-5fd4-4c84-81b9-70dd1d803ae6",
   "metadata": {},
   "outputs": [],
   "source": [
    "img = cv2.imread(\"Ducati_side_shadow.png\",1)\n"
   ]
  },
  {
   "cell_type": "code",
   "execution_count": 3,
   "id": "d3de9679-cddf-4972-bc26-9f1f6963f347",
   "metadata": {},
   "outputs": [],
   "source": [
    "def windimg(image):\n",
    "    cv2.namedWindow(\"window\", cv2.WINDOW_NORMAL)\n",
    "    cv2.imshow(\"window\", image)\n",
    "    cv2.waitKey(0)\n",
    "    cv2.destroyAllWindows()"
   ]
  },
  {
   "cell_type": "code",
   "execution_count": 4,
   "id": "8eee9c26-8692-4a96-8584-1edefe2e5181",
   "metadata": {},
   "outputs": [],
   "source": [
    "windimg(img)"
   ]
  },
  {
   "cell_type": "code",
   "execution_count": 5,
   "id": "635917b0-fbf4-4dcb-9964-abd6c6f2d1bb",
   "metadata": {},
   "outputs": [],
   "source": [
    "imgcol = deepcopy(img)\n",
    "circle = cv2.circle(imgcol, (780, 1280),350,(125,50,39),20)\n",
    "windimg(circle)"
   ]
  },
  {
   "cell_type": "code",
   "execution_count": 6,
   "id": "70132255-3178-47f5-9ec6-ff7863ffed6f",
   "metadata": {},
   "outputs": [],
   "source": [
    "imgN = cv2.imread(\"Ducati_side_shadow.png\",1)"
   ]
  },
  {
   "cell_type": "code",
   "execution_count": 7,
   "id": "f0022933-8c0a-475f-8e53-1fce46daeea4",
   "metadata": {},
   "outputs": [],
   "source": [
    "windimg(imgN)"
   ]
  },
  {
   "cell_type": "code",
   "execution_count": 12,
   "id": "2a60f1f2-b9ef-4076-b75a-a972912849b2",
   "metadata": {},
   "outputs": [],
   "source": [
    "imgN = deepcopy(imgN)\n",
    "def click2circle(event, x, y, flags, param):\n",
    "    if event == cv2.EVENT_LBUTTONDBLCLK:\n",
    "        cv2.circle(imgN,(x,y),50,(255,0,0),4)\n",
    "    \n",
    "cv2.namedWindow(\"differences\",cv2.WINDOW_NORMAL)\n",
    "cv2.setMouseCallback(\"differences\", click2circle)"
   ]
  },
  {
   "cell_type": "code",
   "execution_count": null,
   "id": "03b3b343-ed41-4d30-a3cc-3afbc193262a",
   "metadata": {},
   "outputs": [],
   "source": [
    "\n",
    "while True:\n",
    "    cv2.imshow(\"differences\", imgN)\n",
    "    a = cv2.waitKey(1000)\n",
    "    if a == 27:\n",
    "        break\n",
    "cv2.desrroyAllWindows()"
   ]
  },
  {
   "cell_type": "code",
   "execution_count": null,
   "id": "59368710-a308-45a3-9e7d-735ad6050e9f",
   "metadata": {},
   "outputs": [],
   "source": [
    "# splitting channels and map algebra"
   ]
  },
  {
   "cell_type": "code",
   "execution_count": 8,
   "id": "79e547f6-1e98-4459-81f4-e0232afb7846",
   "metadata": {},
   "outputs": [],
   "source": [
    "b,g,r = cv2.split(img)"
   ]
  },
  {
   "cell_type": "code",
   "execution_count": 9,
   "id": "8e15677c-c6b7-454e-813c-bf7ce713be81",
   "metadata": {},
   "outputs": [],
   "source": [
    "windimg(r)"
   ]
  },
  {
   "cell_type": "code",
   "execution_count": 10,
   "id": "6810bd7c-e08f-4b33-a427-968ceacc9010",
   "metadata": {},
   "outputs": [],
   "source": [
    "#band algebra\n",
    "#subtraction\n",
    "windimg(r-b)"
   ]
  },
  {
   "cell_type": "code",
   "execution_count": 11,
   "id": "13e17faa-ae35-4746-8734-a7da66218f44",
   "metadata": {},
   "outputs": [],
   "source": [
    "#Addition\n",
    "img2 = cv2.merge((b,g,r))"
   ]
  },
  {
   "cell_type": "code",
   "execution_count": 12,
   "id": "8e9dc9e4-411b-4b6e-b968-588edf9dc3b1",
   "metadata": {},
   "outputs": [],
   "source": [
    "windimg(img2)"
   ]
  },
  {
   "cell_type": "code",
   "execution_count": 13,
   "id": "a2e68a5a-0b6b-4dac-9036-4903fb9912b3",
   "metadata": {},
   "outputs": [],
   "source": [
    "# Resizing images"
   ]
  },
  {
   "cell_type": "code",
   "execution_count": 14,
   "id": "d3b0d237-27da-4c50-8263-c63465fe594c",
   "metadata": {},
   "outputs": [],
   "source": [
    "imgres = cv2.resize(img, dsize = None, fx = 1, fy = 1, interpolation = cv2.INTER_CUBIC)"
   ]
  },
  {
   "cell_type": "code",
   "execution_count": 15,
   "id": "181e96e4-cff8-4752-b0a8-36cedf4608de",
   "metadata": {},
   "outputs": [],
   "source": [
    "cv2.imshow(\"window\", imgres)\n",
    "cv2.waitKey(0)\n",
    "cv2.destroyAllWindows()"
   ]
  },
  {
   "cell_type": "code",
   "execution_count": 16,
   "id": "78b8e485-99d5-4aa3-b472-1f2cf113b342",
   "metadata": {},
   "outputs": [],
   "source": [
    "#cropped = img2[10:68,80:70]"
   ]
  },
  {
   "cell_type": "code",
   "execution_count": 17,
   "id": "8854346f-30bf-4cd2-accc-a0901a7b9f8a",
   "metadata": {},
   "outputs": [],
   "source": [
    "#windimg(cropped)"
   ]
  },
  {
   "cell_type": "markdown",
   "id": "7b0cd6ae-1cc7-4f26-b1a3-b268feee8d14",
   "metadata": {},
   "source": [
    "## Geometric operations on images"
   ]
  },
  {
   "cell_type": "code",
   "execution_count": 18,
   "id": "8c9080c0-2b43-4b45-853d-fb846e359d82",
   "metadata": {},
   "outputs": [],
   "source": [
    "# image gradient"
   ]
  },
  {
   "cell_type": "code",
   "execution_count": 19,
   "id": "37cd8962-3192-4504-a575-4a247a9cbda7",
   "metadata": {},
   "outputs": [],
   "source": [
    "crops = cv2.imread(\"crops.jpg\",0)"
   ]
  },
  {
   "cell_type": "code",
   "execution_count": 20,
   "id": "29fa9801-3098-4d35-acca-286610dc1710",
   "metadata": {},
   "outputs": [],
   "source": [
    "windimg(crops)"
   ]
  },
  {
   "cell_type": "code",
   "execution_count": 21,
   "id": "a0320fc2-967b-43b3-bd2a-59f067a16d35",
   "metadata": {},
   "outputs": [],
   "source": [
    "#gradient detection using sobel function\n",
    "sobelx = cv2.Sobel(crops, cv2.CV_8U, 1,0, ksize=3)"
   ]
  },
  {
   "cell_type": "code",
   "execution_count": 22,
   "id": "125d3e1c-d72a-4101-b11d-e7aeb007b0fb",
   "metadata": {},
   "outputs": [],
   "source": [
    "windimg(sobelx)"
   ]
  },
  {
   "cell_type": "code",
   "execution_count": 23,
   "id": "c3e01c45-787b-4aab-8dc5-89cca280daac",
   "metadata": {},
   "outputs": [],
   "source": [
    "#gradient detection using laplacian function\n",
    "laplacianx = cv2.Laplacian(crops, cv2.CV_8U)"
   ]
  },
  {
   "cell_type": "code",
   "execution_count": 24,
   "id": "229f4f02-8892-4e7f-9f27-d9feae510028",
   "metadata": {},
   "outputs": [],
   "source": [
    "windimg(laplacianx)"
   ]
  },
  {
   "cell_type": "code",
   "execution_count": 25,
   "id": "09db0e65-61ee-4062-97ec-d527faef98b7",
   "metadata": {},
   "outputs": [],
   "source": [
    "#edge and feature detection"
   ]
  },
  {
   "cell_type": "code",
   "execution_count": 26,
   "id": "5571c99c-35ee-40eb-8d75-e1827327fee1",
   "metadata": {},
   "outputs": [],
   "source": [
    "#canny edge operator\n",
    "edges = cv2.Canny(crops,150, 400) #the filter can be varied \n",
    "windimg(edges)"
   ]
  },
  {
   "cell_type": "code",
   "execution_count": 27,
   "id": "edaff85e-f6d3-4bc8-9bb9-a2a234955ac7",
   "metadata": {},
   "outputs": [],
   "source": [
    "bbal = cv2.imread(\"bbal.jpg\", 1)\n",
    "windimg(bbal)"
   ]
  },
  {
   "cell_type": "code",
   "execution_count": null,
   "id": "e2fc5fca-37f7-4127-9758-5f5deae30fac",
   "metadata": {},
   "outputs": [],
   "source": [
    "#Radiometric operations on images"
   ]
  },
  {
   "cell_type": "code",
   "execution_count": 29,
   "id": "41b9a643-4799-4ff3-8d1c-3c1f9175b1f5",
   "metadata": {},
   "outputs": [],
   "source": [
    "hsv = cv2.cvtColor(img, cv2.COLOR_BGR2HSV)\n",
    "windimg(hsv)"
   ]
  },
  {
   "cell_type": "code",
   "execution_count": 30,
   "id": "1f48b344-59bf-47de-9f6b-1f2475878f74",
   "metadata": {},
   "outputs": [],
   "source": [
    "# rgb to Gray\n",
    "gry = cv2.cvtColor(img, cv2.COLOR_BGR2GRAY)\n",
    "windimg(gry)"
   ]
  },
  {
   "cell_type": "code",
   "execution_count": 31,
   "id": "01a8cb4c-0c24-4568-bb7e-6d41ea2157af",
   "metadata": {},
   "outputs": [],
   "source": [
    "# Binary image\n",
    "r, t = cv2.threshold(gry,100,255, cv2.THRESH_BINARY)"
   ]
  },
  {
   "cell_type": "code",
   "execution_count": 32,
   "id": "0387f676-2c5b-4816-9a2e-d992f0294a4e",
   "metadata": {},
   "outputs": [],
   "source": [
    "windimg(t)"
   ]
  },
  {
   "cell_type": "code",
   "execution_count": 43,
   "id": "bc218bcd-ded9-4473-a255-dcaddfb59f2f",
   "metadata": {},
   "outputs": [],
   "source": [
    "# image histogram\n",
    "lena = cv2.imread(\"lena.jpg\", 0)"
   ]
  },
  {
   "cell_type": "code",
   "execution_count": 44,
   "id": "c4a346da-796e-40eb-b88e-397b5c505398",
   "metadata": {},
   "outputs": [],
   "source": [
    "windimg(lena)"
   ]
  },
  {
   "cell_type": "code",
   "execution_count": 45,
   "id": "975f436f-c132-46ec-9375-b316e08f9c46",
   "metadata": {},
   "outputs": [],
   "source": [
    "hist = cv2.calcHist([lena], [0], None,[256], [0,256])"
   ]
  },
  {
   "cell_type": "code",
   "execution_count": 46,
   "id": "86873989-aea9-4dd9-8c86-4eb34a08cb53",
   "metadata": {},
   "outputs": [],
   "source": [
    "xaxis = np.arange(256).reshape(256,1)"
   ]
  },
  {
   "cell_type": "code",
   "execution_count": 47,
   "id": "a6f40b3b-66d0-49e5-9653-0ca4dbb729df",
   "metadata": {},
   "outputs": [],
   "source": [
    "histogram=np.hstack((xaxis, hist)).astype(int)"
   ]
  },
  {
   "cell_type": "code",
   "execution_count": 48,
   "id": "b0811e70-859e-4793-8fdf-a4d0147e7428",
   "metadata": {},
   "outputs": [
    {
     "data": {
      "text/plain": [
       "<function matplotlib.pyplot.show(close=None, block=None)>"
      ]
     },
     "execution_count": 48,
     "metadata": {},
     "output_type": "execute_result"
    },
    {
     "data": {
      "image/png": "[encoded data removed]",
      "text/plain": [
       "<Figure size 640x480 with 1 Axes>"
      ]
     },
     "metadata": {},
     "output_type": "display_data"
    }
   ],
   "source": [
    "plt.hist(lena.flatten(), 256,[0,256])\n",
    "plt.show"
   ]
  },
  {
   "cell_type": "code",
   "execution_count": 49,
   "id": "744584f0-bc32-47cb-a872-3018dff87b83",
   "metadata": {},
   "outputs": [],
   "source": [
    "equ = cv2.equalizeHist(lena)"
   ]
  },
  {
   "cell_type": "code",
   "execution_count": 50,
   "id": "26d56ef0-1ff4-4019-9c11-3166daede290",
   "metadata": {},
   "outputs": [],
   "source": [
    "windimg(equ)"
   ]
  },
  {
   "cell_type": "code",
   "execution_count": 51,
   "id": "e6a519bd-4f28-41ad-8425-c50170fd1e54",
   "metadata": {},
   "outputs": [],
   "source": [
    "res = np.hstack((lena,equ))"
   ]
  },
  {
   "cell_type": "code",
   "execution_count": 52,
   "id": "4421fe20-85b9-4825-b269-037b29045770",
   "metadata": {},
   "outputs": [],
   "source": [
    "windimg(res)"
   ]
  },
  {
   "cell_type": "code",
   "execution_count": 53,
   "id": "5415d686-fc1f-4cd7-b0ae-01e49c857d55",
   "metadata": {},
   "outputs": [],
   "source": [
    "# Convolution based operation"
   ]
  },
  {
   "cell_type": "code",
   "execution_count": 54,
   "id": "daa119b7-e8dd-465d-976d-b0e4c7af9dd2",
   "metadata": {},
   "outputs": [],
   "source": [
    "blur = cv2.blur(lena,(7,7))"
   ]
  },
  {
   "cell_type": "code",
   "execution_count": 55,
   "id": "6b59bf28-306e-43b6-a810-e06d99895110",
   "metadata": {},
   "outputs": [],
   "source": [
    "windimg(blur)"
   ]
  },
  {
   "cell_type": "code",
   "execution_count": 56,
   "id": "daba1b4a-237b-48a3-9c4d-d318357d1ff8",
   "metadata": {},
   "outputs": [],
   "source": [
    "blurG = cv2.GaussianBlur(lena,(11,11),0)"
   ]
  },
  {
   "cell_type": "code",
   "execution_count": 57,
   "id": "009a6534-02d2-44e2-af99-0b22745cd631",
   "metadata": {},
   "outputs": [],
   "source": [
    "windimg(blurG)"
   ]
  },
  {
   "cell_type": "code",
   "execution_count": 58,
   "id": "b4812840-a256-446f-a278-c91292df03f9",
   "metadata": {},
   "outputs": [],
   "source": [
    "res = np.hstack((lena,blurG))"
   ]
  },
  {
   "cell_type": "code",
   "execution_count": 59,
   "id": "8f7da313-d3d5-41bc-acf0-0dc499345399",
   "metadata": {},
   "outputs": [],
   "source": [
    "windimg(res)"
   ]
  },
  {
   "cell_type": "code",
   "execution_count": 60,
   "id": "fd5d8e11-e9fa-4391-ba8e-a2f513f7be11",
   "metadata": {},
   "outputs": [],
   "source": [
    "# image classification"
   ]
  },
  {
   "cell_type": "code",
   "execution_count": 61,
   "id": "f6840537-b8db-4975-93ed-a9aa68909c4c",
   "metadata": {},
   "outputs": [],
   "source": [
    "img = cv2.imread(\"Ducati_side_shadow.png\", 1)\n",
    "windimg(img)\n"
   ]
  },
  {
   "cell_type": "code",
   "execution_count": 62,
   "id": "bb0899ed-6fea-4cc9-83f9-a7a7058a61b1",
   "metadata": {},
   "outputs": [],
   "source": [
    "\n",
    "imgcl = np.float32(img.reshape((-1,3)))\n",
    "criteria= (cv2.TERM_CRITERIA_EPS+cv2.TERM_CRITERIA_MAX_ITER, 15,1.0)\n",
    "K=6\n",
    "ret, lab, center = cv2.kmeans(imgcl, K, None, criteria, 10, cv2.KMEANS_RANDOM_CENTERS)\n",
    "\n",
    "center = np.uint8(center)\n",
    "res = center[lab.flatten()]\n",
    "\n",
    "res2=res.reshape((img.shape))\n",
    "\n",
    "windimg(res2)"
   ]
  },
  {
   "cell_type": "code",
   "execution_count": 63,
   "id": "02e558f0-fe15-4c35-a5c9-ef58d785092b",
   "metadata": {},
   "outputs": [],
   "source": [
    "# Chapter5 : An Earth Observation application\n",
    "p = 'before'\n",
    "a = 'after'\n",
    "PathB = glob.glob(f'{p}/*.jp2')\n",
    "PathA = glob.glob(f'{a}/*.jp2')"
   ]
  },
  {
   "cell_type": "code",
   "execution_count": 64,
   "id": "3a0b6bf2-865b-442b-b10b-89ae26c838df",
   "metadata": {},
   "outputs": [],
   "source": [
    "BEF = []\n",
    "AFT = []\n",
    "for i in PathB:\n",
    "    BEF.append(cv2.imread(i,0))\n",
    "\n",
    "for i in PathA:\n",
    "    AFT.append(cv2.imread(i,0))"
   ]
  },
  {
   "cell_type": "code",
   "execution_count": 65,
   "id": "6e7052cf-0680-45ad-b169-b46143309427",
   "metadata": {},
   "outputs": [],
   "source": [
    "windimg(BEF[6])"
   ]
  },
  {
   "cell_type": "code",
   "execution_count": 66,
   "id": "09468564-f852-4af1-b0fe-2f9391cc7624",
   "metadata": {},
   "outputs": [],
   "source": [
    "BEF32 = []\n",
    "AFT32 = []\n",
    "\n",
    "for i in range(1,7):\n",
    "    BEF32.append(np.float32(cv2.equalizeHist(BEF[i])))\n",
    "\n",
    "for i in range(1,7):\n",
    "    AFT32.append(np.float32(cv2.equalizeHist(AFT[i])))"
   ]
  },
  {
   "cell_type": "code",
   "execution_count": 67,
   "id": "93553845-c3d2-4a99-a489-e0b4e8720d1d",
   "metadata": {},
   "outputs": [],
   "source": [
    "windimg(cv2.equalizeHist(BEF[3]))\n",
    "windimg(cv2.equalizeHist(AFT[3]))"
   ]
  },
  {
   "cell_type": "code",
   "execution_count": 68,
   "id": "37722130-03c1-455f-b4d0-f9736fa2edeb",
   "metadata": {},
   "outputs": [],
   "source": [
    "before = cv2.merge((BEF32[0],BEF32[1],BEF32[2],BEF32[3],BEF32[4],BEF32[5]))"
   ]
  },
  {
   "cell_type": "code",
   "execution_count": 69,
   "id": "2456f055-512a-43f9-9aac-e1d1b4ac7f4f",
   "metadata": {},
   "outputs": [],
   "source": [
    "beforeReady=before.reshape((-1,6))\n",
    "criteria = (cv2.TERM_CRITERIA_EPS+cv2.TERM_CRITERIA_MAX_ITER, 30, 1)\n",
    "ret, label, center = cv2.kmeans(beforeReady, 6, None,criteria, 10, cv2.KMEANS_RANDOM_CENTERS)\n",
    "center = np.uint8(center)\n",
    "res=center[label.flatten()]\n",
    "res2=res.reshape((before.shape))"
   ]
  },
  {
   "cell_type": "code",
   "execution_count": 70,
   "id": "007f1341-2e8e-456c-8c46-d3537081b31e",
   "metadata": {},
   "outputs": [],
   "source": [
    "beforeF = deepcopy(res2[:][:,:,:3])"
   ]
  },
  {
   "cell_type": "code",
   "execution_count": null,
   "id": "b5c20c03-4108-4a4c-b95c-f5eea52d8745",
   "metadata": {},
   "outputs": [],
   "source": [
    "windimg(beforeF)"
   ]
  },
  {
   "cell_type": "code",
   "execution_count": null,
   "id": "1dddcfd3-4f7d-43c0-9217-d800e055ad97",
   "metadata": {},
   "outputs": [],
   "source": [
    "after = cv2.merge((AFT32[0],AFT32[1],AFT32[2],AFT32[3],AFT32[4],AFT32[5]))"
   ]
  },
  {
   "cell_type": "code",
   "execution_count": null,
   "id": "a457a587-1332-466d-97c6-13784a7dfb08",
   "metadata": {},
   "outputs": [],
   "source": [
    "afterReady=after.reshape((-1,6))\n",
    "criteria = (cv2.TERM_CRITERIA_EPS+cv2.TERM_CRITERIA_MAX_ITER, 30, 1)\n",
    "ret, label, center = cv2.kmeans(afterReady, 6, None,criteria, 10, cv2.KMEANS_RANDOM_CENTERS)\n",
    "center = np.uint8(center)\n",
    "res=center[label.flatten()]\n",
    "res2=res.reshape((before.shape))"
   ]
  },
  {
   "cell_type": "code",
   "execution_count": null,
   "id": "00a5eed4-f66d-4d7b-b2d9-37ef5d7971c6",
   "metadata": {},
   "outputs": [],
   "source": [
    "afterF = deepcopy(res2[:][:,:,:3])"
   ]
  },
  {
   "cell_type": "code",
   "execution_count": null,
   "id": "da6a2d0f-2f9d-45e9-a3fc-19b21e9c4feb",
   "metadata": {},
   "outputs": [],
   "source": [
    "windimg(afterF)"
   ]
  }
 ],
 "metadata": {
  "kernelspec": {
   "display_name": "Python 3 (ipykernel)",
   "language": "python",
   "name": "python3"
  },
  "language_info": {
   "codemirror_mode": {
    "name": "ipython",
    "version": 3
   },
   "file_extension": ".py",
   "mimetype": "text/x-python",
   "name": "python",
   "nbconvert_exporter": "python",
   "pygments_lexer": "ipython3",
   "version": "3.11.4"
  },
  "vscode": {
   "interpreter": {
    "hash": "2fffb9416fef0f14d8c3180827823918a8a81fff6ed4e50b546e97970237eb04"
   }
  }
 },
 "nbformat": 4,
 "nbformat_minor": 5
}
